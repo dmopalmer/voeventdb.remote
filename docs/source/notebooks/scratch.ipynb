{
 "cells": [
  {
   "cell_type": "markdown",
   "metadata": {},
   "source": [
    "# Scratch notebook"
   ]
  },
  {
   "cell_type": "code",
   "execution_count": 1,
   "metadata": {
    "collapsed": true
   },
   "outputs": [],
   "source": [
    "import logging\n",
    "logger = logging.getLogger()\n",
    "logger.setLevel(logging.DEBUG)"
   ]
  },
  {
   "cell_type": "code",
   "execution_count": 2,
   "metadata": {
    "collapsed": true
   },
   "outputs": [],
   "source": [
    "import voeventdb.remote as vr\n",
    "import voeventdb.remote.apiv0 as apiv0\n",
    "from voeventdb.remote.apiv0 import FilterKeys, OrderValues"
   ]
  },
  {
   "cell_type": "code",
   "execution_count": 3,
   "metadata": {
    "collapsed": true
   },
   "outputs": [],
   "source": [
    "# For testing against a local-dev server:\n",
    "# vr.default_host = 'http://localhost:5000'"
   ]
  },
  {
   "cell_type": "code",
   "execution_count": 4,
   "metadata": {
    "collapsed": true
   },
   "outputs": [],
   "source": [
    "filters = {\n",
    "    FilterKeys.ivorn_contains : ['GRB'],\n",
    "    FilterKeys.role : 'observation',\n",
    "}"
   ]
  },
  {
   "cell_type": "code",
   "execution_count": 5,
   "metadata": {
    "collapsed": false
   },
   "outputs": [
    {
     "name": "stderr",
     "output_type": "stream",
     "text": [
      "INFO:requests.packages.urllib3.connectionpool:Starting new HTTP connection (1): voeventdb.4pisky.org\n",
      "DEBUG:requests.packages.urllib3.connectionpool:\"GET /apiv0/stream_count HTTP/1.1\" 200 985\n"
     ]
    },
    {
     "data": {
      "text/plain": [
       "{u'com.dc3/dc3.broker': 22570,\n",
       " u'nasa.gsfc.gcn/AGILE': 4033,\n",
       " u'nasa.gsfc.gcn/COUNTERPART': 72,\n",
       " u'nasa.gsfc.gcn/Fermi': 27689,\n",
       " u'nasa.gsfc.gcn/GRO': 4289,\n",
       " u'nasa.gsfc.gcn/HETE': 3961,\n",
       " u'nasa.gsfc.gcn/INTEGRAL': 22828,\n",
       " u'nasa.gsfc.gcn/IPN': 342,\n",
       " u'nasa.gsfc.gcn/KONUS': 305,\n",
       " u'nasa.gsfc.gcn/MAXI': 4171,\n",
       " u'nasa.gsfc.gcn/MOA': 969,\n",
       " u'nasa.gsfc.gcn/SUZAKU': 17,\n",
       " u'nasa.gsfc.gcn/SWIFT': 758768,\n",
       " u'nvo.caltech/voeventnet/catot': 66,\n",
       " u'nvo.caltech/voeventnet/mlsot': 147,\n",
       " u'svomcgft.naoc/VOEVENTTEST': 1768,\n",
       " u'voevent.4pisky.org/TEST': 10,\n",
       " u'voevent.4pisky.org/voevent-broadcast': 361,\n",
       " u'voevent.4pisky.org/voevent-receive': 361,\n",
       " u'voevent.astro.soton/TEST': 13,\n",
       " u'voevent.astro.soton/TESTRESPONSE': 13,\n",
       " u'voevent.organization.tld/TEST': 22,\n",
       " u'voevent.phys.soton.ac.uk/AMI-REQUEST': 82}"
      ]
     },
     "execution_count": 5,
     "metadata": {},
     "output_type": "execute_result"
    }
   ],
   "source": [
    "apiv0.stream_count()"
   ]
  },
  {
   "cell_type": "code",
   "execution_count": 6,
   "metadata": {
    "collapsed": false
   },
   "outputs": [
    {
     "name": "stderr",
     "output_type": "stream",
     "text": [
      "INFO:requests.packages.urllib3.connectionpool:Starting new HTTP connection (1): voeventdb.4pisky.org\n",
      "DEBUG:requests.packages.urllib3.connectionpool:\"GET /apiv0/stream_count?role=observation HTTP/1.1\" 200 573\n"
     ]
    },
    {
     "data": {
      "text/plain": [
       "{u'nasa.gsfc.gcn/COUNTERPART': 72,\n",
       " u'nasa.gsfc.gcn/Fermi': 5811,\n",
       " u'nasa.gsfc.gcn/INTEGRAL': 796,\n",
       " u'nasa.gsfc.gcn/IPN': 342,\n",
       " u'nasa.gsfc.gcn/KONUS': 305,\n",
       " u'nasa.gsfc.gcn/MAXI': 185,\n",
       " u'nasa.gsfc.gcn/MOA': 969,\n",
       " u'nasa.gsfc.gcn/SUZAKU': 17,\n",
       " u'nasa.gsfc.gcn/SWIFT': 710762,\n",
       " u'nvo.caltech/voeventnet/catot': 66,\n",
       " u'nvo.caltech/voeventnet/mlsot': 147}"
      ]
     },
     "execution_count": 6,
     "metadata": {},
     "output_type": "execute_result"
    }
   ],
   "source": [
    "apiv0.stream_count(filters={FilterKeys.role:'observation'})"
   ]
  },
  {
   "cell_type": "code",
   "execution_count": 7,
   "metadata": {
    "collapsed": false
   },
   "outputs": [
    {
     "name": "stderr",
     "output_type": "stream",
     "text": [
      "INFO:requests.packages.urllib3.connectionpool:Starting new HTTP connection (1): voeventdb.4pisky.org\n",
      "DEBUG:requests.packages.urllib3.connectionpool:\"GET /apiv0/count?role=observation&ivorn_contains=GRB HTTP/1.1\" 200 244\n"
     ]
    },
    {
     "data": {
      "text/plain": [
       "235"
      ]
     },
     "execution_count": 7,
     "metadata": {},
     "output_type": "execute_result"
    }
   ],
   "source": [
    "apiv0.count(filters)"
   ]
  },
  {
   "cell_type": "code",
   "execution_count": 8,
   "metadata": {
    "collapsed": false
   },
   "outputs": [
    {
     "name": "stdout",
     "output_type": "stream",
     "text": [
      "1000\n"
     ]
    }
   ],
   "source": [
    "print(vr.default_pagesize)\n",
    "# vr.default_pagesize = 100"
   ]
  },
  {
   "cell_type": "code",
   "execution_count": 9,
   "metadata": {
    "collapsed": false
   },
   "outputs": [
    {
     "name": "stderr",
     "output_type": "stream",
     "text": [
      "INFO:requests.packages.urllib3.connectionpool:Starting new HTTP connection (1): voeventdb.4pisky.org\n",
      "DEBUG:requests.packages.urllib3.connectionpool:\"GET /apiv0/count?role=observation&ivorn_contains=GRB HTTP/1.1\" 200 244\n",
      "INFO:requests.packages.urllib3.connectionpool:Starting new HTTP connection (1): voeventdb.4pisky.org\n",
      "DEBUG:requests.packages.urllib3.connectionpool:\"GET /apiv0/ivorn?limit=100&role=observation&order=author_datetime_desc&ivorn_contains=GRB&offset=0 HTTP/1.1\" 200 6027\n"
     ]
    },
    {
     "data": {
      "text/plain": [
       "100"
      ]
     },
     "execution_count": 9,
     "metadata": {},
     "output_type": "execute_result"
    }
   ],
   "source": [
    "l = apiv0.ivorn(filters, order=OrderValues.author_datetime_desc, n_max=100)\n",
    "len(l)"
   ]
  },
  {
   "cell_type": "code",
   "execution_count": 10,
   "metadata": {
    "collapsed": false
   },
   "outputs": [
    {
     "data": {
      "text/plain": [
       "[u'ivo://nasa.gsfc.gcn/SWIFT#BAT_GRB_Pos_665268-638',\n",
       " u'ivo://nasa.gsfc.gcn/SWIFT#BAT_GRB_Pos_664624-588',\n",
       " u'ivo://nasa.gsfc.gcn/SWIFT#BAT_GRB_Pos_664610-945',\n",
       " u'ivo://nasa.gsfc.gcn/SWIFT#BAT_GRB_Pos_664078-773',\n",
       " u'ivo://nasa.gsfc.gcn/SWIFT#BAT_GRB_Pos_663490-455',\n",
       " u'ivo://nasa.gsfc.gcn/SWIFT#BAT_GRB_Pos_663179-096',\n",
       " u'ivo://nasa.gsfc.gcn/SWIFT#BAT_GRB_Pos_663164-112',\n",
       " u'ivo://nasa.gsfc.gcn/SWIFT#BAT_GRB_Pos_663074-140',\n",
       " u'ivo://nasa.gsfc.gcn/SWIFT#BAT_GRB_Pos_662757-224',\n",
       " u'ivo://nasa.gsfc.gcn/SWIFT#BAT_GRB_Pos_662330-893']"
      ]
     },
     "execution_count": 10,
     "metadata": {},
     "output_type": "execute_result"
    }
   ],
   "source": [
    "l[:10]"
   ]
  },
  {
   "cell_type": "code",
   "execution_count": 11,
   "metadata": {
    "collapsed": false
   },
   "outputs": [
    {
     "name": "stderr",
     "output_type": "stream",
     "text": [
      "INFO:requests.packages.urllib3.connectionpool:Starting new HTTP connection (1): voeventdb.4pisky.org\n",
      "DEBUG:requests.packages.urllib3.connectionpool:\"GET /apiv0/count?role=observation&ivorn_contains=GRB HTTP/1.1\" 200 244\n",
      "INFO:requests.packages.urllib3.connectionpool:Starting new HTTP connection (1): voeventdb.4pisky.org\n",
      "DEBUG:requests.packages.urllib3.connectionpool:\"GET /apiv0/ivorn_cited_count?limit=100&role=observation&order=author_datetime_desc&ivorn_contains=GRB&offset=0 HTTP/1.1\" 200 8430\n"
     ]
    },
    {
     "data": {
      "text/plain": [
       "100"
      ]
     },
     "execution_count": 11,
     "metadata": {},
     "output_type": "execute_result"
    }
   ],
   "source": [
    "l = apiv0.ivorn_cited_count(filters, order=OrderValues.author_datetime_desc, n_max=100)\n",
    "len(l)"
   ]
  },
  {
   "cell_type": "code",
   "execution_count": 12,
   "metadata": {
    "collapsed": false
   },
   "outputs": [
    {
     "data": {
      "text/plain": [
       "[u'ivo://nasa.gsfc.gcn/SWIFT#BAT_GRB_Pos_642620-051', 33]"
      ]
     },
     "execution_count": 12,
     "metadata": {},
     "output_type": "execute_result"
    }
   ],
   "source": [
    "max_cited_recent = max(l, key=lambda x:x[1])\n",
    "max_cited_recent"
   ]
  },
  {
   "cell_type": "code",
   "execution_count": 13,
   "metadata": {
    "collapsed": true
   },
   "outputs": [],
   "source": [
    "ivorn = max_cited_recent[0]"
   ]
  },
  {
   "cell_type": "code",
   "execution_count": 14,
   "metadata": {
    "collapsed": false
   },
   "outputs": [
    {
     "name": "stderr",
     "output_type": "stream",
     "text": [
      "INFO:requests.packages.urllib3.connectionpool:Starting new HTTP connection (1): voeventdb.4pisky.org\n",
      "DEBUG:requests.packages.urllib3.connectionpool:\"GET /apiv0/synopsis/ivo%3A%2F%2Fnasa.gsfc.gcn%2FSWIFT%23BAT_GRB_Pos_642620-051 HTTP/1.1\" 200 877\n"
     ]
    },
    {
     "data": {
      "text/plain": [
       "{u'coords': [{u'dec': 68.4424,\n",
       "   u'error': 0.05,\n",
       "   u'ra': 140.0239,\n",
       "   u'time': u'2015-06-07T07:55:09.570000+00:00'}],\n",
       " u'refs': [],\n",
       " u'relevant_urls': [u'http://www.swift.ac.uk/search/summary.php?obsid=642620',\n",
       "  u'http://gcn.gsfc.nasa.gov/other/642620.swift'],\n",
       " u'voevent': {u'author_datetime': u'2015-06-07T07:55:22+00:00',\n",
       "  u'author_ivorn': u'ivo://nasa.gsfc.tan/gcn',\n",
       "  u'ivorn': u'ivo://nasa.gsfc.gcn/SWIFT#BAT_GRB_Pos_642620-051',\n",
       "  u'received': u'2015-11-20T15:20:05.028612+00:00',\n",
       "  u'role': u'observation',\n",
       "  u'stream': u'nasa.gsfc.gcn/SWIFT',\n",
       "  u'version': u'2.0'}}"
      ]
     },
     "execution_count": 14,
     "metadata": {},
     "output_type": "execute_result"
    }
   ],
   "source": [
    "apiv0.synopsis(ivorn)"
   ]
  },
  {
   "cell_type": "code",
   "execution_count": 15,
   "metadata": {
    "collapsed": true
   },
   "outputs": [],
   "source": [
    "from voeventdb.remote.helpers import Synopsis"
   ]
  },
  {
   "cell_type": "code",
   "execution_count": 16,
   "metadata": {
    "collapsed": false
   },
   "outputs": [
    {
     "name": "stderr",
     "output_type": "stream",
     "text": [
      "INFO:requests.packages.urllib3.connectionpool:Starting new HTTP connection (1): voeventdb.4pisky.org\n",
      "DEBUG:requests.packages.urllib3.connectionpool:\"GET /apiv0/synopsis/ivo%3A%2F%2Fnasa.gsfc.gcn%2FSWIFT%23BAT_GRB_Pos_642620-051 HTTP/1.1\" 200 877\n"
     ]
    }
   ],
   "source": [
    "synop = Synopsis(apiv0.synopsis(ivorn))"
   ]
  },
  {
   "cell_type": "code",
   "execution_count": 17,
   "metadata": {
    "collapsed": false
   },
   "outputs": [
    {
     "name": "stdout",
     "output_type": "stream",
     "text": [
      "{ 'author_datetime': '2015-06-07T07:55:22+00:00',\n",
      "  'author_ivorn': u'ivo://nasa.gsfc.tan/gcn',\n",
      "  'coords_with_timestamp': [ <SkyCoord (ICRS): (ra, dec) in deg\n",
      "    (140.0239, 68.4424)> @ 2015-06-07T07:55:09.570000+00:00],\n",
      "  'ivorn': u'ivo://nasa.gsfc.gcn/SWIFT#BAT_GRB_Pos_642620-051',\n",
      "  'received': '2015-11-20T15:20:05.028612+00:00',\n",
      "  'references': [],\n",
      "  'role': u'observation',\n",
      "  'stream': u'nasa.gsfc.gcn/SWIFT',\n",
      "  'version': u'2.0'}\n"
     ]
    }
   ],
   "source": [
    "print(synop)"
   ]
  },
  {
   "cell_type": "code",
   "execution_count": 18,
   "metadata": {
    "collapsed": false
   },
   "outputs": [
    {
     "name": "stdout",
     "output_type": "stream",
     "text": [
      "<SkyCoord (ICRS): (ra, dec) in deg\n",
      "    (140.0239, 68.4424)>\n",
      "2015-06-07 07:55:09.570000+00:00\n"
     ]
    }
   ],
   "source": [
    "c0=synop.coords_with_timestamp[0]\n",
    "print(c0.coords)\n",
    "print(c0.timestamp)"
   ]
  },
  {
   "cell_type": "code",
   "execution_count": 19,
   "metadata": {
    "collapsed": false
   },
   "outputs": [
    {
     "name": "stderr",
     "output_type": "stream",
     "text": [
      "INFO:requests.packages.urllib3.connectionpool:Starting new HTTP connection (1): voeventdb.4pisky.org\n",
      "DEBUG:requests.packages.urllib3.connectionpool:\"GET /apiv0/xml/ivo%3A%2F%2Fnasa.gsfc.gcn%2FSWIFT%23BAT_GRB_Pos_642620-051 HTTP/1.1\" 200 1992\n"
     ]
    }
   ],
   "source": [
    "xml = apiv0.xml(ivorn)"
   ]
  },
  {
   "cell_type": "code",
   "execution_count": 20,
   "metadata": {
    "collapsed": true
   },
   "outputs": [],
   "source": [
    "# print(xml[:80*5],\"...\")"
   ]
  },
  {
   "cell_type": "code",
   "execution_count": 21,
   "metadata": {
    "collapsed": true
   },
   "outputs": [],
   "source": [
    "import voeventparse as vp\n",
    "v = vp.loads(xml)\n",
    "# print(vp.prettystr(v.Who))"
   ]
  },
  {
   "cell_type": "code",
   "execution_count": 22,
   "metadata": {
    "collapsed": true
   },
   "outputs": [],
   "source": [
    "# print(vp.prettystr(v.WhereWhen))"
   ]
  },
  {
   "cell_type": "code",
   "execution_count": 23,
   "metadata": {
    "collapsed": false
   },
   "outputs": [
    {
     "data": {
      "text/plain": [
       "['Solution_Status', 'Obs_Support_Info', 'Merit_Values', 'Misc_Flags', None]"
      ]
     },
     "execution_count": 23,
     "metadata": {},
     "output_type": "execute_result"
    }
   ],
   "source": [
    "params_dict = vp.pull_params(v)\n",
    "params_dict.keys()"
   ]
  },
  {
   "cell_type": "code",
   "execution_count": 24,
   "metadata": {
    "collapsed": true
   },
   "outputs": [],
   "source": [
    "# params_dict[None]"
   ]
  },
  {
   "cell_type": "code",
   "execution_count": 25,
   "metadata": {
    "collapsed": true
   },
   "outputs": [],
   "source": [
    "# params_dict['Solution_Status']"
   ]
  },
  {
   "cell_type": "code",
   "execution_count": 26,
   "metadata": {
    "collapsed": false
   },
   "outputs": [
    {
     "data": {
      "text/plain": [
       "u'ivo://nasa.gsfc.gcn/SWIFT#BAT_GRB_Pos_642620-051'"
      ]
     },
     "execution_count": 26,
     "metadata": {},
     "output_type": "execute_result"
    }
   ],
   "source": [
    "ivorn"
   ]
  },
  {
   "cell_type": "code",
   "execution_count": 27,
   "metadata": {
    "collapsed": false
   },
   "outputs": [
    {
     "name": "stderr",
     "output_type": "stream",
     "text": [
      "INFO:requests.packages.urllib3.connectionpool:Starting new HTTP connection (1): voeventdb.4pisky.org\n",
      "DEBUG:requests.packages.urllib3.connectionpool:\"GET /apiv0/count?ref_exact=ivo%3A%2F%2Fnasa.gsfc.gcn%2FSWIFT%23BAT_GRB_Pos_642620-051 HTTP/1.1\" 200 275\n",
      "INFO:requests.packages.urllib3.connectionpool:Starting new HTTP connection (1): voeventdb.4pisky.org\n",
      "DEBUG:requests.packages.urllib3.connectionpool:\"GET /apiv0/ivorn_cited_count?ref_exact=ivo%3A%2F%2Fnasa.gsfc.gcn%2FSWIFT%23BAT_GRB_Pos_642620-051&limit=33&order=id&offset=0 HTTP/1.1\" 200 3082\n"
     ]
    },
    {
     "data": {
      "text/plain": [
       "[[u'ivo://voevent.phys.soton.ac.uk/AMI-REQUEST#150607-0749.45', 0],\n",
       " [u'ivo://nasa.gsfc.gcn/SWIFT#SC_Slew_642620-059', 0],\n",
       " [u'ivo://nasa.gsfc.gcn/SWIFT#UVOT_Proc_SrcList_642620-168', 0],\n",
       " [u'ivo://nasa.gsfc.gcn/SWIFT#UVOT_Proc_SrcList_642620-188', 0],\n",
       " [u'ivo://nasa.gsfc.gcn/SWIFT#BAT_Lightcurve_642620-163', 0],\n",
       " [u'ivo://nasa.gsfc.gcn/SWIFT#BAT_Scaledmap_642620-158', 0],\n",
       " [u'ivo://nasa.gsfc.gcn/SWIFT#XRT_Lightcurve_642620-088', 0],\n",
       " [u'ivo://nasa.gsfc.gcn/SWIFT#UVOT_Image_642620-189', 0],\n",
       " [u'ivo://nasa.gsfc.gcn/SWIFT#UVOT_SrcList_642620-094', 0],\n",
       " [u'ivo://nasa.gsfc.gcn/SWIFT#BAT_Lightcurve_642620-162', 0],\n",
       " [u'ivo://nasa.gsfc.gcn/SWIFT#BAT_Lightcurve_642620-073', 0],\n",
       " [u'ivo://nasa.gsfc.gcn/SWIFT#UVOT_Proc_SrcList_642620-098', 0],\n",
       " [u'ivo://nasa.gsfc.gcn/SWIFT#UVOT_Proc_Image_642620-106', 0],\n",
       " [u'ivo://nasa.gsfc.gcn/SWIFT#BAT_Lightcurve_642620-075', 0],\n",
       " [u'ivo://nasa.gsfc.gcn/SWIFT#XRT_Proc_Image_642620-069', 0],\n",
       " [u'ivo://nasa.gsfc.gcn/SWIFT#UVOT_Proc_Image_642620-193', 0],\n",
       " [u'ivo://nasa.gsfc.gcn/SWIFT#UVOT_Pos_642620-114', 0],\n",
       " [u'ivo://nasa.gsfc.gcn/SWIFT#XRT_Pos_642620-248', 0],\n",
       " [u'ivo://nasa.gsfc.gcn/SWIFT#XRT_Spec_642620-070', 0],\n",
       " [u'ivo://nasa.gsfc.gcn/SWIFT#SC_Slew_642620-054', 0],\n",
       " [u'ivo://nasa.gsfc.gcn/SWIFT#FOM_Obs_642620-053', 0],\n",
       " [u'ivo://nasa.gsfc.gcn/SWIFT#UVOT_SrcList_642620-187', 0],\n",
       " [u'ivo://nasa.gsfc.gcn/SWIFT#XRT_Pos_642620-252', 0],\n",
       " [u'ivo://nasa.gsfc.gcn/SWIFT#UVOT_Proc_Image_642620-180', 0],\n",
       " [u'ivo://nasa.gsfc.gcn/SWIFT#XRT_Image_642620-068', 0],\n",
       " [u'ivo://nasa.gsfc.gcn/SWIFT#XRT_Proc_Spec_642620-071', 0],\n",
       " [u'ivo://nasa.gsfc.gcn/SWIFT#XRT_Pos_642620-064', 0],\n",
       " [u'ivo://nasa.gsfc.gcn/SWIFT#BAT_Lightcurve_642620-178', 0],\n",
       " [u'ivo://nasa.gsfc.gcn/SWIFT#XRT_Proc_Spec_642620-074', 0],\n",
       " [u'ivo://nasa.gsfc.gcn/SWIFT#UVOT_Image_642620-105', 0],\n",
       " [u'ivo://nasa.gsfc.gcn/SWIFT#UVOT_Image_642620-173', 0],\n",
       " [u'ivo://nasa.gsfc.gcn/SWIFT#XRT_Spec_642620-072', 0],\n",
       " [u'ivo://nasa.gsfc.gcn/SWIFT#UVOT_SrcList_642620-164', 0]]"
      ]
     },
     "execution_count": 27,
     "metadata": {},
     "output_type": "execute_result"
    }
   ],
   "source": [
    "followup = apiv0.ivorn_cited_count(filters={FilterKeys.ref_exact:ivorn})\n",
    "followup"
   ]
  }
 ],
 "metadata": {
  "kernelspec": {
   "display_name": "Python 2",
   "language": "python",
   "name": "python2"
  },
  "language_info": {
   "codemirror_mode": {
    "name": "ipython",
    "version": 2
   },
   "file_extension": ".py",
   "mimetype": "text/x-python",
   "name": "python",
   "nbconvert_exporter": "python",
   "pygments_lexer": "ipython2",
   "version": "2.7.6"
  }
 },
 "nbformat": 4,
 "nbformat_minor": 0
}
