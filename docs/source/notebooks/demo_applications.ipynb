{
 "cells": [
  {
   "cell_type": "markdown",
   "metadata": {},
   "source": [
    "# Data-analysis and visualization examples\n",
    "This notebook does not directly demonstrate `voeventdb` (see the tutorials!) but provides examples of what's possible when data on astronomical transients is readily available:"
   ]
  },
  {
   "cell_type": "markdown",
   "metadata": {},
   "source": [
    "## Prelude - fetch 10 most-recent GRBs"
   ]
  },
  {
   "cell_type": "code",
   "execution_count": null,
   "metadata": {
    "collapsed": true
   },
   "outputs": [],
   "source": [
    "from __future__ import print_function\n",
    "import voeventdb.remote as vr\n",
    "import voeventdb.remote.apiv1 as apiv1\n",
    "from voeventdb.remote.apiv1 import FilterKeys\n",
    "from voeventdb.remote.helpers import Synopsis\n",
    "from datetime import datetime, timedelta\n",
    "import pytz"
   ]
  },
  {
   "cell_type": "code",
   "execution_count": null,
   "metadata": {
    "collapsed": false
   },
   "outputs": [],
   "source": [
    "filters = { FilterKeys.ivorn_contains: 'BAT_GRB',\n",
    "            FilterKeys.role: 'observation'}\n",
    "\n",
    "recent_swift_grb_ivorns = apiv1.list_ivorn(filters,\n",
    "                                     order=apiv1.OrderValues.author_datetime_desc,\n",
    "                                     n_max=10,\n",
    "                                    )\n",
    "recent_swift_grbs = [Synopsis(apiv1.packet_synopsis(i)) for i in recent_swift_grb_ivorns]\n"
   ]
  },
  {
   "cell_type": "markdown",
   "metadata": {},
   "source": [
    "## Plotting a timeline\n",
    "We already retrieved and printed the timestamps of the most recent GRBS - but that's too much text. Let's plot a timeline:"
   ]
  },
  {
   "cell_type": "code",
   "execution_count": null,
   "metadata": {
    "collapsed": false
   },
   "outputs": [],
   "source": [
    "%matplotlib inline\n",
    "import matplotlib as mpl\n",
    "import matplotlib.pyplot as plt \n",
    "\n",
    "grb_dtimes=[s.author_datetime for s in recent_swift_grbs]\n",
    "\n",
    "fonts = {'family' : 'normal',\n",
    "        'weight' : 'bold',\n",
    "        'size'   : 14}\n",
    "\n",
    "mpl.rc('font', **fonts)\n",
    "\n",
    "now = pytz.UTC.localize((datetime.utcnow()))\n",
    "week_markers = [now - timedelta(days=7)*w for w in range(0,5)]\n",
    "\n",
    "\n",
    "markersize=95\n",
    "\n",
    "plt.scatter(grb_dtimes, [1]*len(grb_dtimes),  marker='*', s=markersize, label='GRB')\n",
    "plt.scatter(now, 1, marker='o', s=markersize, c='r')\n",
    "for d in grb_dtimes:\n",
    "    plt.axvline(d, ymax=0.5, ls='-')\n",
    "\n",
    "first_label = True\n",
    "for w in week_markers:\n",
    "    plt.axvline(w, ymax=0.5, ls='--',c='r', \n",
    "                label=('Week marker' if first_label else None))\n",
    "    first_label=False\n",
    "\n",
    "plt.xlim(min(grb_dtimes)-timedelta(days=2), max(max(grb_dtimes),now)+timedelta(days=2))\n",
    "plt.gcf().autofmt_xdate()\n",
    "ax = plt.gca()\n",
    "ax.yaxis.set_visible(False)\n",
    "ax.spines['right'].set_visible(False)\n",
    "ax.spines['left'].set_visible(False)\n",
    "ax.spines['top'].set_visible(False)\n",
    "ax.xaxis.set_ticks_position('bottom')\n",
    "ax.get_yaxis().set_ticklabels([])\n",
    "plt.legend(loc='best')\n",
    "plt.gcf().set_size_inches(12,4)\n",
    "plt.gcf().suptitle(\"Recent Swift BAT alerts, as of {}\".format(now), fontsize=22)"
   ]
  },
  {
   "cell_type": "markdown",
   "metadata": {},
   "source": [
    "## Creating a sky-coordinate scatterplot\n",
    "Let's see where those GRBs lie on-sky (with credit to http://www.astropy.org/astropy-tutorials/plot-catalog.html):"
   ]
  },
  {
   "cell_type": "code",
   "execution_count": null,
   "metadata": {
    "collapsed": false
   },
   "outputs": [],
   "source": [
    "from astropy.coordinates import Angle\n",
    "import astropy.units as u\n",
    "grb_ra_coords = Angle([grb.coords[0].ra for grb in recent_swift_grbs])\n",
    "grb_dec_coords = Angle([grb.coords[0].dec for grb in recent_swift_grbs])\n",
    "grb_ra_coords = grb_ra_coords.wrap_at(180*u.degree)\n",
    "\n",
    "print(grb_ra_coords.deg)\n",
    "print(grb_dec_coords.deg)"
   ]
  },
  {
   "cell_type": "code",
   "execution_count": null,
   "metadata": {
    "collapsed": false
   },
   "outputs": [],
   "source": [
    "fig = plt.figure(figsize=(12,8))\n",
    "ax = fig.add_subplot(111, projection=\"mollweide\")\n",
    "ax.scatter(grb_ra_coords.radian, grb_dec_coords.radian, marker='*', s=13**2, label='GRB')\n",
    "ax.grid(True)\n",
    "plt.legend()\n",
    "plt.gcf().suptitle('Locations of 10 most recent Swift BAT GRB alerts', fontsize=24)\n"
   ]
  },
  {
   "cell_type": "markdown",
   "metadata": {},
   "source": [
    "## Planning an observation with astropy\n",
    "Let's suppose we want to observe the a recently alerted GRB event from Cambridge, UK. We have the location of the event, already converted to `astropy` co-ordinates. This means we can use `astropy`'s Alt-Az conversions to calculate the altitude of the target at any given time.\n",
    "\n",
    "\n",
    "**(This section borrows heavily from http://docs.astropy.org/en/stable/coordinates/observing-example.html, consult the original for more detail and background)**"
   ]
  },
  {
   "cell_type": "code",
   "execution_count": null,
   "metadata": {
    "collapsed": true
   },
   "outputs": [],
   "source": [
    "#Grab the latest IERS time-data first:\n",
    "from astropy.utils.data import download_file\n",
    "from astropy.utils import iers\n",
    "iers.IERS.iers_table = iers.IERS_A.open(download_file(iers.IERS_A_URL, cache=True))"
   ]
  },
  {
   "cell_type": "code",
   "execution_count": null,
   "metadata": {
    "collapsed": false
   },
   "outputs": [],
   "source": [
    "import numpy as np\n",
    "from astropy import units as u\n",
    "from astropy.time import Time\n",
    "from astropy.coordinates import SkyCoord, EarthLocation, AltAz"
   ]
  },
  {
   "cell_type": "markdown",
   "metadata": {},
   "source": [
    "Let's pick a GRB which will actually be observable some of time, i.e. one in the same hemisphere as Cambridge:"
   ]
  },
  {
   "cell_type": "code",
   "execution_count": null,
   "metadata": {
    "collapsed": false
   },
   "outputs": [],
   "source": [
    "accessible_grbs = [g for g in recent_swift_grbs if g.coords[0].dec.deg>0]\n",
    "len(accessible_grbs)"
   ]
  },
  {
   "cell_type": "code",
   "execution_count": null,
   "metadata": {
    "collapsed": false
   },
   "outputs": [],
   "source": [
    "grb_target = accessible_grbs[0]\n",
    "print(\"Sample target GRB:\")\n",
    "print(grb_target)"
   ]
  },
  {
   "cell_type": "code",
   "execution_count": null,
   "metadata": {
    "collapsed": false
   },
   "outputs": [],
   "source": [
    "grb_target_posn = accessible_grbs[0].coords[0]\n",
    "cambridge = EarthLocation(lat=52.205*u.deg, lon=0.118*u.deg, height=6*u.m)\n",
    "utcoffset = -0*u.hour  # GMT\n",
    "time = Time.now() - utcoffset\n",
    "grb_altaz = grb_target_posn.transform_to(AltAz(obstime=time,location=cambridge))  \n",
    "print(\"GRB's current altitude = {0.alt:.2}\".format(grb_altaz)  )"
   ]
  },
  {
   "cell_type": "code",
   "execution_count": null,
   "metadata": {
    "collapsed": false
   },
   "outputs": [],
   "source": [
    "from astropy.coordinates import get_sun\n",
    "now = Time.now()\n",
    "delta_24 = np.linspace(0, 24, 100)*u.hour\n",
    "times = now + delta_24\n",
    "\n",
    "altaz_frame = AltAz(obstime=times, location=cambridge)\n",
    "\n",
    "grb_altaz_array = grb_altaz.transform_to(altaz_frame)  \n",
    "sun_altaz_array = get_sun(times).transform_to(altaz_frame)\n"
   ]
  },
  {
   "cell_type": "code",
   "execution_count": null,
   "metadata": {
    "collapsed": false
   },
   "outputs": [],
   "source": [
    "fig = plt.figure(figsize=(12,8))\n",
    "plt.plot(delta_24, grb_altaz_array.alt, lw=10, label='GRB')  \n",
    "plt.plot(delta_24, sun_altaz_array.alt, lw=10, c='y', label='Sun')  \n",
    "# plt.fill_between(delta_midnight, 0, 90, sun_altaz_array.alt < -0*u.deg, color='0.5', zorder=0)  \n",
    "# plt.fill_between(delta_midnight, 0, 90, sun_altaz_array.alt < -18*u.deg, color='k', zorder=0)  \n",
    "\n",
    "plt.axhline(0, ls='--', lw=8, c='k',\n",
    "           label='Horizon',)\n",
    "plt.xlabel('Hours from {}'.format(now))  \n",
    "plt.ylabel('Source altitude')\n",
    "plt.legend(loc='best')\n",
    "plt.gcf().suptitle(\"GRB target altitude over next 24 hours\", fontsize=24)"
   ]
  }
 ],
 "metadata": {
  "kernelspec": {
   "display_name": "Python 2",
   "language": "python",
   "name": "python2"
  },
  "language_info": {
   "codemirror_mode": {
    "name": "ipython",
    "version": 2
   },
   "file_extension": ".py",
   "mimetype": "text/x-python",
   "name": "python",
   "nbconvert_exporter": "python",
   "pygments_lexer": "ipython2",
   "version": "2.7.6"
  }
 },
 "nbformat": 4,
 "nbformat_minor": 0
}