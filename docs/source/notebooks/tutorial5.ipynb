{
 "cells": [
  {
   "cell_type": "markdown",
   "metadata": {},
   "source": [
    "# Surveying recent events and planning your followup\n",
    "\n",
    "We've now covered all the endpoints provided by `voeventdb`. In this notebook, we'll look at how to request particular list-orderings, and demonstrate how you might use `voeventdb` to plan a night's follow-up observing."
   ]
  },
  {
   "cell_type": "code",
   "execution_count": null,
   "metadata": {
    "collapsed": true
   },
   "outputs": [],
   "source": [
    "from __future__ import print_function\n",
    "import voeventdb.remote as vr\n",
    "import voeventdb.remote.apiv1 as apiv1\n",
    "from voeventdb.remote.apiv1 import FilterKeys\n",
    "from voeventdb.remote.helpers import Synopsis\n",
    "from datetime import datetime, timedelta\n",
    "import pytz"
   ]
  },
  {
   "cell_type": "markdown",
   "metadata": {},
   "source": [
    "## List ordering\n",
    "When using the `voeventdb` list-query endpoints, we can control ordering using the `order` parameter. So for example, if we simply request the first 50 IVORNs with no modifiers, we get the first entries inserted into the database:"
   ]
  },
  {
   "cell_type": "code",
   "execution_count": null,
   "metadata": {
    "collapsed": false
   },
   "outputs": [],
   "source": [
    "apiv1.list_ivorn(n_max=5)"
   ]
  },
  {
   "cell_type": "markdown",
   "metadata": {},
   "source": [
    "In this case, whatever happened to arrive just after the database was switched on, before the previous year's events were loaded from an archive.\n",
    "But, we can change the ordering, choosing from one the \n",
    "[order-values](http://voeventdbremote.readthedocs.org/en/latest/reference/index.html#voeventdb.remote.apiv1.OrderValues). For example, to retrieve the most recent 'observation' VOEvents, we'll request the list in 'author-datetime descending' order:"
   ]
  },
  {
   "cell_type": "code",
   "execution_count": null,
   "metadata": {
    "collapsed": false
   },
   "outputs": [],
   "source": [
    "apiv1.list_ivorn(filters={FilterKeys.role:'observation'},\n",
    "                 order=apiv1.OrderValues.author_datetime_desc,\n",
    "                 n_max=5, \n",
    "                )"
   ]
  },
  {
   "cell_type": "markdown",
   "metadata": {},
   "source": [
    "## Retrieving recent GRB events\n",
    "With this last feature, we can start using `voeventdb` for applications such as reviewing the most recent alerts, and perhaps even planning our follow-up. \n",
    "Suppose we want to retrieve the 10 most-recent GRB-event alerts from the *Swift* BAT:"
   ]
  },
  {
   "cell_type": "code",
   "execution_count": null,
   "metadata": {
    "collapsed": false
   },
   "outputs": [],
   "source": [
    "filters = { FilterKeys.ivorn_contains: 'BAT_GRB',\n",
    "            FilterKeys.role: 'observation'}\n",
    "now = datetime.utcnow()\n",
    "recent_swift_grb_ivorns = apiv1.list_ivorn(filters,\n",
    "                                     order=apiv1.OrderValues.author_datetime_desc,\n",
    "                                     n_max=10,\n",
    "                                    )\n",
    "recent_swift_grbs = [Synopsis(apiv1.packet_synopsis(i)) for i in recent_swift_grb_ivorns]"
   ]
  },
  {
   "cell_type": "markdown",
   "metadata": {},
   "source": [
    "Let's view a summary table, displaying just the dates and co-ords:"
   ]
  },
  {
   "cell_type": "code",
   "execution_count": null,
   "metadata": {
    "collapsed": false
   },
   "outputs": [],
   "source": [
    "print(\"Recent GRBs as of {}:\".format(now))\n",
    "print()\n",
    "for grb in recent_swift_grbs:\n",
    "    print(grb.author_datetime, grb.coords[0].ra.deg, grb.coords[0].dec.deg)"
   ]
  },
  {
   "cell_type": "markdown",
   "metadata": {},
   "source": [
    "If we wanted to be a little fancy, we could use a [pandas](http://pandas.pydata.org/) dataframe to draw the table for us, applying some formatting tricks along the way:"
   ]
  },
  {
   "cell_type": "code",
   "execution_count": null,
   "metadata": {
    "collapsed": true
   },
   "outputs": [],
   "source": [
    "import pandas as pd"
   ]
  },
  {
   "cell_type": "code",
   "execution_count": null,
   "metadata": {
    "collapsed": false
   },
   "outputs": [],
   "source": [
    "df = pd.DataFrame(index = [g.author_datetime for g in recent_swift_grbs],\n",
    "                  data = {'ra': [g.coords[0].ra.deg for g in recent_swift_grbs],\n",
    "                          'dec': [g.coords[0].dec.deg for g in recent_swift_grbs],\n",
    "    })\n",
    "#Re-order the columns\n",
    "df = df[['ra','dec']]\n",
    "#Set the float-display formatting:\n",
    "pd.options.display.float_format = '{:+07.2f}'.format\n",
    "print(\"Recent GRBs as of {}:\".format(now))\n",
    "df"
   ]
  },
  {
   "cell_type": "markdown",
   "metadata": {},
   "source": [
    "## Wrapping up\n",
    "\n",
    "That about covers all the major features of ``voeventdb``, as demonstrated using the ``voeventdb.remote`` client-library. \n",
    "Comments, questions, bug-reports and other contributions are all welcomed - you can leave a note on the \n",
    "[issue tracker](https://github.com/timstaley/voeventdb.remote/issues) or find more contact details at http://4pisky.org/voevents/.\n",
    "\n",
    "## And finally...\n",
    "We've covered how to get data out of `voeventdb` - but not what to do with the data when you've got it. The examples notebook demonstrates a few basic ideas - see next!"
   ]
  }
 ],
 "metadata": {
  "kernelspec": {
   "display_name": "Python 2",
   "language": "python",
   "name": "python2"
  },
  "language_info": {
   "codemirror_mode": {
    "name": "ipython",
    "version": 2
   },
   "file_extension": ".py",
   "mimetype": "text/x-python",
   "name": "python",
   "nbconvert_exporter": "python",
   "pygments_lexer": "ipython2",
   "version": "2.7.6"
  }
 },
 "nbformat": 4,
 "nbformat_minor": 0
}