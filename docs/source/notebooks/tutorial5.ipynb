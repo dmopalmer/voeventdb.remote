{
 "cells": [
  {
   "cell_type": "markdown",
   "metadata": {},
   "source": [
    "# Retrieving recent events and planning your followup\n",
    "\n",
    "We've now covered all the endpoints provided by `voeventdb`. In this notebook, we'll look at how to request particular list-orderings, and demonstrate how you might use `voeventdb` to plan a night's follow-up observing."
   ]
  },
  {
   "cell_type": "code",
   "execution_count": null,
   "metadata": {
    "collapsed": true
   },
   "outputs": [],
   "source": [
    "from __future__ import print_function\n",
    "import voeventdb.remote as vr\n",
    "import voeventdb.remote.apiv1 as apiv1\n",
    "from voeventdb.remote.apiv1 import FilterKeys\n",
    "from voeventdb.remote.helpers import Synopsis"
   ]
  },
  {
   "cell_type": "markdown",
   "metadata": {},
   "source": [
    "... (work in progress)"
   ]
  },
  {
   "cell_type": "markdown",
   "metadata": {},
   "source": [
    "## Wrapping up\n",
    "\n",
    "That about covers all the major features of ``voeventdb``, as demonstrated using the ``voeventdb.remote`` client-library. \n",
    "Comments, questions, bug-reports and other contributions are all welcomed - you can leave a note on the \n",
    "[issue tracker](https://github.com/timstaley/voeventdb.remote/issues) or find more contact details at http://4pisky.org/voevents/."
   ]
  }
 ],
 "metadata": {
  "kernelspec": {
   "display_name": "Python 2",
   "language": "python",
   "name": "python2"
  },
  "language_info": {
   "codemirror_mode": {
    "name": "ipython",
    "version": 2
   },
   "file_extension": ".py",
   "mimetype": "text/x-python",
   "name": "python",
   "nbconvert_exporter": "python",
   "pygments_lexer": "ipython2",
   "version": "2.7.6"
  }
 },
 "nbformat": 4,
 "nbformat_minor": 0
}