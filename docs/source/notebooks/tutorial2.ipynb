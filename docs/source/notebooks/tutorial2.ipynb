{
 "cells": [
  {
   "cell_type": "markdown",
   "metadata": {},
   "source": [
    "# Narrowing your query and digging into your results\n",
    "We previously covered the basics of working with voeventdb.remote in tutorial 1. \n",
    "\n",
    "In this notebook, we'll demonstrate the use of filters to narrow down your query, and demonstrate the 'helper classes' you can use to easily access the details for a particular packet."
   ]
  },
  {
   "cell_type": "markdown",
   "metadata": {},
   "source": [
    "As before, we'll switch on 'DEBUG' level logging, to see the the HTTP requests go whizzing by."
   ]
  },
  {
   "cell_type": "code",
   "execution_count": null,
   "metadata": {
    "collapsed": true
   },
   "outputs": [],
   "source": [
    "from __future__ import print_function\n",
    "import logging\n",
    "logger = logging.getLogger()\n",
    "logger.setLevel(logging.DEBUG)"
   ]
  },
  {
   "cell_type": "code",
   "execution_count": null,
   "metadata": {
    "collapsed": true
   },
   "outputs": [],
   "source": [
    "import voeventdb.remote as vr\n",
    "import voeventdb.remote.apiv1 as apiv1"
   ]
  },
  {
   "cell_type": "markdown",
   "metadata": {},
   "source": [
    "We've already briefly looked at the ``stream_count`` endpoint, and mentioned how VOEvents come in three flavours of [role](http://voevent.readthedocs.org/en/latest/reading.html#event-roles), 'observation', 'utility', and 'test'.\n",
    "Let's remind ourselves what the default stream_count output looks like:"
   ]
  },
  {
   "cell_type": "code",
   "execution_count": null,
   "metadata": {
    "collapsed": true
   },
   "outputs": [],
   "source": [
    "apiv1.stream_count()"
   ]
  },
  {
   "cell_type": "markdown",
   "metadata": {},
   "source": [
    "## Using filters\n",
    "\n",
    "Quite obviously, a number of those streams are 'junk', they contain only test-packets used to verify that the VOEvent infrastructure is up and working correctly. For scientific work, we'll want to filter those out. \n",
    "\n",
    "Fortunately, we can ask the voeventdb server to do the filtering work for us. The voeventdb.remote library comes with an easy-to-use list of filters, stored as ``voeventdb.remote.apiv1.FilterKeys``. To see what's available, you can either\n",
    "use the IPython interface as in the cell below, or simply check the \n",
    "[relevant section](http://voeventdbremote.readthedocs.org/en/latest/reference/index.html#voeventdb.remote.apiv1.FilterKeys)\n",
    "of the documentation. \n",
    "\n",
    "Full definitions of the filter-keys (and example filter-values) can be found [in the voeventdb server docs](http://voeventdb.readthedocs.org/en/latest/apiv1/queryfilters.html#apiv1-filters), but we'll cover most of them in this notebook - read on."
   ]
  },
  {
   "cell_type": "code",
   "execution_count": null,
   "metadata": {
    "collapsed": true
   },
   "outputs": [],
   "source": [
    "#Alias voeventdb.remote.apiv1.FilterKeys to just 'FilterKeys', for brevity\n",
    "from voeventdb.remote.apiv1 import FilterKeys"
   ]
  },
  {
   "cell_type": "code",
   "execution_count": null,
   "metadata": {
    "collapsed": true
   },
   "outputs": [],
   "source": [
    "## To see the list of filters, you can use tab-completion:\n",
    "# FilterKeys.\n",
    "## Or the ipython doc-lookup magic, by prefixing with ``??``:\n",
    "# ??FilterKeys"
   ]
  },
  {
   "cell_type": "markdown",
   "metadata": {},
   "source": [
    "So: we were trying to filter out the test-packets. ``FilterKeys.role`` sounds promising. To apply a filter, or multiple filters, we simply define a dictionary with the filters we want to apply, and then pass it to the relevant query-function, like this:"
   ]
  },
  {
   "cell_type": "code",
   "execution_count": null,
   "metadata": {
    "collapsed": true
   },
   "outputs": [],
   "source": [
    "my_filters = { FilterKeys.role: 'observation' }"
   ]
  },
  {
   "cell_type": "code",
   "execution_count": null,
   "metadata": {
    "collapsed": true
   },
   "outputs": [],
   "source": [
    "apiv1.stream_count(my_filters)"
   ]
  },
  {
   "cell_type": "markdown",
   "metadata": {},
   "source": [
    "Great! That's a much shorter list, and it only contains scientifically interesting streams. Still, those numbers are pretty large (mainly for *Swift*). It might be useful to get a smaller representative sample. How many packets will we get if we limit our query to a single week?"
   ]
  },
  {
   "cell_type": "code",
   "execution_count": null,
   "metadata": {
    "collapsed": true
   },
   "outputs": [],
   "source": [
    "from datetime import datetime, timedelta\n",
    "start_date = datetime(2015,12,1)\n",
    "my_filters = { \n",
    "    FilterKeys.role: 'observation',\n",
    "    FilterKeys.authored_since: start_date,\n",
    "    FilterKeys.authored_until: start_date + timedelta(days=7)\n",
    "    }\n",
    "my_filters"
   ]
  },
  {
   "cell_type": "code",
   "execution_count": null,
   "metadata": {
    "collapsed": true
   },
   "outputs": [],
   "source": [
    "apiv1.stream_count(my_filters)"
   ]
  },
  {
   "cell_type": "markdown",
   "metadata": {},
   "source": [
    "Ok, so there's still a lot of SWIFT packets there. We'll come back to those later, for now let's take a look at the Fermi entries. To do that, we'll grab the 'stream' value from above, and add it to the filter-dictionary:"
   ]
  },
  {
   "cell_type": "code",
   "execution_count": null,
   "metadata": {
    "collapsed": true
   },
   "outputs": [],
   "source": [
    "my_filters[FilterKeys.stream]='nasa.gsfc.gcn/Fermi'\n",
    "my_filters"
   ]
  },
  {
   "cell_type": "markdown",
   "metadata": {},
   "source": [
    "OK, so now if we apply the filters to ``stream_count``, we only get back one entry:"
   ]
  },
  {
   "cell_type": "code",
   "execution_count": null,
   "metadata": {
    "collapsed": true
   },
   "outputs": [],
   "source": [
    "apiv1.stream_count(filters=my_filters)"
   ]
  },
  {
   "cell_type": "markdown",
   "metadata": {},
   "source": [
    "Not particularly helpful, but at least everything is working as expected. Now, the neat thing about the voeventdb filters is that they can be applied to **any** query-endpoint - so we can just re-use the filter-dictionary to get back a list of IVORNs:"
   ]
  },
  {
   "cell_type": "code",
   "execution_count": null,
   "metadata": {
    "collapsed": true
   },
   "outputs": [],
   "source": [
    "fermi_ivorns = apiv1.ivorn(filters=my_filters)\n",
    "print(\"Retrieved\",len(fermi_ivorns),\"IVORNs, as expected\")\n",
    "fermi_ivorns"
   ]
  },
  {
   "cell_type": "markdown",
   "metadata": {},
   "source": [
    "Now we're getting somewhere! We can clearly see a few subcategories of Fermi packets - alerts, flight positions, ground positions, final positions. We can refine the list even further by filtering on a substring of the IVORN. For example, we might want to filter to just those IVORNs containing flight positions (**note this is case-sensitive!**):"
   ]
  },
  {
   "cell_type": "code",
   "execution_count": null,
   "metadata": {
    "collapsed": true
   },
   "outputs": [],
   "source": [
    "my_filters[FilterKeys.ivorn_contains] = 'Flt_Pos'\n",
    "my_filters"
   ]
  },
  {
   "cell_type": "code",
   "execution_count": null,
   "metadata": {
    "collapsed": true
   },
   "outputs": [],
   "source": [
    "fermi_ivorns = apiv1.ivorn(filters=my_filters)\n",
    "fermi_ivorns"
   ]
  },
  {
   "cell_type": "markdown",
   "metadata": {},
   "source": [
    "As in tutorial 1, we can inspect the details of any given packet. This VOEvent is a good example, as it includes details of the event co-ordinates and timestamp, and also references an earlier VOEvent:"
   ]
  },
  {
   "cell_type": "code",
   "execution_count": null,
   "metadata": {
    "collapsed": true
   },
   "outputs": [],
   "source": [
    "synopsis_dict = apiv1.synopsis(fermi_ivorns[0])\n",
    "synopsis_dict"
   ]
  },
  {
   "cell_type": "markdown",
   "metadata": {},
   "source": [
    "## Ready-made 'helper' classes for parsing output\n",
    "Nested dictionaries can be kind of a pain to work with. If you want, you can use voeventdb.remote's \n",
    "[Synopsis](http://voeventdbremote.readthedocs.org/en/latest/reference/index.html#voeventdb.remote.helpers.Synopsis)\n",
    "'helper' class to parse this into an easy-to use object. This prints with nicer formatting:"
   ]
  },
  {
   "cell_type": "code",
   "execution_count": null,
   "metadata": {
    "collapsed": true
   },
   "outputs": [],
   "source": [
    "from voeventdb.remote.helpers import Synopsis"
   ]
  },
  {
   "cell_type": "code",
   "execution_count": null,
   "metadata": {
    "collapsed": true
   },
   "outputs": [],
   "source": [
    "fermi_synopsis = Synopsis(synopsis_dict)\n",
    "# synopsis\n",
    "print(fermi_synopsis)"
   ]
  },
  {
   "cell_type": "markdown",
   "metadata": {},
   "source": [
    "You can easily access the values (with the ever-handy IPython autocompletion):"
   ]
  },
  {
   "cell_type": "code",
   "execution_count": null,
   "metadata": {
    "collapsed": true
   },
   "outputs": [],
   "source": [
    "fermi_synopsis.author_ivorn"
   ]
  },
  {
   "cell_type": "code",
   "execution_count": null,
   "metadata": {
    "collapsed": true
   },
   "outputs": [],
   "source": [
    "fermi_synopsis.references"
   ]
  },
  {
   "cell_type": "markdown",
   "metadata": {},
   "source": [
    "And it parses any 'sky_events' / co-ordinates into \n",
    "[astropy.coordinates](http://astropy.readthedocs.org/en/stable/coordinates/index.html) classes, which come with a bunch of features covered in the astropy docs."
   ]
  },
  {
   "cell_type": "code",
   "execution_count": null,
   "metadata": {
    "collapsed": true
   },
   "outputs": [],
   "source": [
    "fermi_synopsis.sky_events"
   ]
  },
  {
   "cell_type": "code",
   "execution_count": null,
   "metadata": {
    "collapsed": true
   },
   "outputs": [],
   "source": [
    "e0 = fermi_synopsis.sky_events[0]"
   ]
  },
  {
   "cell_type": "code",
   "execution_count": null,
   "metadata": {
    "collapsed": true
   },
   "outputs": [],
   "source": [
    "print(type(e0.position))\n",
    "e0.position"
   ]
  },
  {
   "cell_type": "code",
   "execution_count": null,
   "metadata": {
    "collapsed": true
   },
   "outputs": [],
   "source": [
    "print(e0.position.ra.deg)\n",
    "print(e0.position.ra.hms)"
   ]
  },
  {
   "cell_type": "code",
   "execution_count": null,
   "metadata": {
    "collapsed": true
   },
   "outputs": [],
   "source": [
    "print(type(e0.position_error))\n",
    "e0.position_error.deg"
   ]
  },
  {
   "cell_type": "markdown",
   "metadata": {},
   "source": [
    "## Filtering using a cone-search (AKA spatial queries)"
   ]
  },
  {
   "cell_type": "code",
   "execution_count": null,
   "metadata": {
    "collapsed": true
   },
   "outputs": [],
   "source": [
    "cone = str([e0.position.ra.deg, e0.position.dec.deg, 1])\n",
    "cone"
   ]
  },
  {
   "cell_type": "code",
   "execution_count": null,
   "metadata": {
    "collapsed": true
   },
   "outputs": [],
   "source": [
    "new_filters = {\n",
    "    FilterKeys.role: 'observation',\n",
    "    FilterKeys.cone: cone\n",
    "    }\n",
    "nearby_ivorns = apiv1.ivorn(new_filters)\n",
    "nearby_ivorns"
   ]
  },
  {
   "cell_type": "code",
   "execution_count": null,
   "metadata": {
    "collapsed": true
   },
   "outputs": [],
   "source": [
    "print(Synopsis(apiv1.synopsis(nearby_ivorns[0])))"
   ]
  },
  {
   "cell_type": "code",
   "execution_count": null,
   "metadata": {
    "collapsed": true
   },
   "outputs": [],
   "source": [
    "## Recall the Fermi-detected event-details, for comparison:\n",
    "print(fermi_synopsis)"
   ]
  },
  {
   "cell_type": "markdown",
   "metadata": {},
   "source": [
    "OK so those two events are separated by more than a year, and there are many such *Swift* BAT sub-threshold events scattered all over the sky, so it's likely just a coincidence. \n",
    "\n",
    "(Optional exercise - add extra filters to only return events within an interval of one month before / after the Fermi-detected event.)"
   ]
  }
 ],
 "metadata": {
  "kernelspec": {
   "display_name": "Python 2",
   "language": "python",
   "name": "python2"
  },
  "language_info": {
   "codemirror_mode": {
    "name": "ipython",
    "version": 2
   },
   "file_extension": ".py",
   "mimetype": "text/x-python",
   "name": "python",
   "nbconvert_exporter": "python",
   "pygments_lexer": "ipython2",
   "version": "2.7.6"
  }
 },
 "nbformat": 4,
 "nbformat_minor": 0
}
